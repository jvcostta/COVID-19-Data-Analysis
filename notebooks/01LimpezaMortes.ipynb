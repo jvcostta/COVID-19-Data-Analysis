{
 "cells": [
  {
   "cell_type": "markdown",
   "id": "3fe31681",
   "metadata": {},
   "source": [
    "# Notebook 01 - Limpeza da Base de Mortes por COVID\n",
    "Este notebook realiza o carregamento, inspeção e limpeza da base de dados contendo informações sobre as mortes por COVID-19 no Brasil por estado (UF).\n",
    "\n",
    "A ideia é deixar os dados prontos para a fusão com a base de vacinação no próximo passo."
   ]
  },
  {
   "cell_type": "code",
   "execution_count": 1,
   "id": "3df6c405",
   "metadata": {},
   "outputs": [],
   "source": [
    "import pandas as pd\n",
    "import numpy as np"
   ]
  },
  {
   "cell_type": "markdown",
   "id": "a1e606fc",
   "metadata": {},
   "source": [
    "## Leitura dos Dados Originais\n",
    "Vamos carregar a planilha `.xlsx` que contém as informações sobre mortes por COVID-19."
   ]
  },
  {
   "cell_type": "code",
   "execution_count": 3,
   "id": "19f2d980",
   "metadata": {},
   "outputs": [
    {
     "data": {
      "text/html": [
       "<div>\n",
       "<style scoped>\n",
       "    .dataframe tbody tr th:only-of-type {\n",
       "        vertical-align: middle;\n",
       "    }\n",
       "\n",
       "    .dataframe tbody tr th {\n",
       "        vertical-align: top;\n",
       "    }\n",
       "\n",
       "    .dataframe thead th {\n",
       "        text-align: right;\n",
       "    }\n",
       "</style>\n",
       "<table border=\"1\" class=\"dataframe\">\n",
       "  <thead>\n",
       "    <tr style=\"text-align: right;\">\n",
       "      <th></th>\n",
       "      <th>UF</th>\n",
       "      <th>População</th>\n",
       "      <th>Casos novos notificados na semana epidemiológica</th>\n",
       "      <th>Casos Acumulados</th>\n",
       "      <th>Incidência covid-19 (100 mil hab)</th>\n",
       "      <th>Óbitos novos notificados na semana epidemiológica</th>\n",
       "      <th>Óbitos Acumulados</th>\n",
       "      <th>Taxa mortalidade (100 mil hab)</th>\n",
       "    </tr>\n",
       "  </thead>\n",
       "  <tbody>\n",
       "    <tr>\n",
       "      <th>0</th>\n",
       "      <td>AC</td>\n",
       "      <td>881935</td>\n",
       "      <td>0</td>\n",
       "      <td>174740</td>\n",
       "      <td>19813.251543</td>\n",
       "      <td>0</td>\n",
       "      <td>2115</td>\n",
       "      <td>239.813592</td>\n",
       "    </tr>\n",
       "    <tr>\n",
       "      <th>1</th>\n",
       "      <td>AL</td>\n",
       "      <td>3337357</td>\n",
       "      <td>161</td>\n",
       "      <td>350936</td>\n",
       "      <td>10515.386877</td>\n",
       "      <td>0</td>\n",
       "      <td>7375</td>\n",
       "      <td>220.983251</td>\n",
       "    </tr>\n",
       "    <tr>\n",
       "      <th>2</th>\n",
       "      <td>AM</td>\n",
       "      <td>4144597</td>\n",
       "      <td>7</td>\n",
       "      <td>648018</td>\n",
       "      <td>15635.247528</td>\n",
       "      <td>0</td>\n",
       "      <td>14556</td>\n",
       "      <td>351.204230</td>\n",
       "    </tr>\n",
       "    <tr>\n",
       "      <th>3</th>\n",
       "      <td>AP</td>\n",
       "      <td>845731</td>\n",
       "      <td>0</td>\n",
       "      <td>192019</td>\n",
       "      <td>22704.500604</td>\n",
       "      <td>0</td>\n",
       "      <td>2178</td>\n",
       "      <td>257.528694</td>\n",
       "    </tr>\n",
       "    <tr>\n",
       "      <th>4</th>\n",
       "      <td>BA</td>\n",
       "      <td>14873064</td>\n",
       "      <td>66</td>\n",
       "      <td>1853103</td>\n",
       "      <td>12459.456908</td>\n",
       "      <td>1</td>\n",
       "      <td>32126</td>\n",
       "      <td>216.001222</td>\n",
       "    </tr>\n",
       "  </tbody>\n",
       "</table>\n",
       "</div>"
      ],
      "text/plain": [
       "   UF  População  Casos novos notificados na semana epidemiológica  \\\n",
       "0  AC     881935                                                 0   \n",
       "1  AL    3337357                                               161   \n",
       "2  AM    4144597                                                 7   \n",
       "3  AP     845731                                                 0   \n",
       "4  BA   14873064                                                66   \n",
       "\n",
       "   Casos Acumulados  Incidência covid-19 (100 mil hab)  \\\n",
       "0            174740                       19813.251543   \n",
       "1            350936                       10515.386877   \n",
       "2            648018                       15635.247528   \n",
       "3            192019                       22704.500604   \n",
       "4           1853103                       12459.456908   \n",
       "\n",
       "   Óbitos novos notificados na semana epidemiológica  Óbitos Acumulados  \\\n",
       "0                                                  0               2115   \n",
       "1                                                  0               7375   \n",
       "2                                                  0              14556   \n",
       "3                                                  0               2178   \n",
       "4                                                  1              32126   \n",
       "\n",
       "   Taxa mortalidade (100 mil hab)  \n",
       "0                      239.813592  \n",
       "1                      220.983251  \n",
       "2                      351.204230  \n",
       "3                      257.528694  \n",
       "4                      216.001222  "
      ]
     },
     "execution_count": 3,
     "metadata": {},
     "output_type": "execute_result"
    }
   ],
   "source": [
    "path = '../data/raw/MortesCovid19Brasil.xlsx'\n",
    "BrasilMortes = pd.read_excel(path)\n",
    "BrasilMortes.head()"
   ]
  },
  {
   "cell_type": "markdown",
   "id": "184a77bb",
   "metadata": {},
   "source": [
    "## Verificação das Colunas\n",
    "Avaliaremos os nomes das colunas para identificar quais precisam ser renomeadas ou tratadas."
   ]
  },
  {
   "cell_type": "code",
   "execution_count": 4,
   "id": "9c2c6d7a",
   "metadata": {},
   "outputs": [
    {
     "data": {
      "text/plain": [
       "Index(['UF', 'População', 'Casos novos notificados na semana epidemiológica',\n",
       "       'Casos Acumulados', 'Incidência covid-19 (100 mil hab)',\n",
       "       'Óbitos novos notificados na semana epidemiológica',\n",
       "       'Óbitos Acumulados', 'Taxa mortalidade (100 mil hab)'],\n",
       "      dtype='object')"
      ]
     },
     "execution_count": 4,
     "metadata": {},
     "output_type": "execute_result"
    }
   ],
   "source": [
    "BrasilMortes.columns"
   ]
  },
  {
   "cell_type": "markdown",
   "id": "181ec6d5",
   "metadata": {},
   "source": [
    "## Renomeando as Colunas\n",
    "Vamos padronizar os nomes das colunas para o formato `snake_case`, que é o padrão recomendado para nomes de variáveis e colunas em Python."
   ]
  },
  {
   "cell_type": "code",
   "execution_count": 5,
   "id": "f2f06ecf",
   "metadata": {},
   "outputs": [
    {
     "data": {
      "text/html": [
       "<div>\n",
       "<style scoped>\n",
       "    .dataframe tbody tr th:only-of-type {\n",
       "        vertical-align: middle;\n",
       "    }\n",
       "\n",
       "    .dataframe tbody tr th {\n",
       "        vertical-align: top;\n",
       "    }\n",
       "\n",
       "    .dataframe thead th {\n",
       "        text-align: right;\n",
       "    }\n",
       "</style>\n",
       "<table border=\"1\" class=\"dataframe\">\n",
       "  <thead>\n",
       "    <tr style=\"text-align: right;\">\n",
       "      <th></th>\n",
       "      <th>uf</th>\n",
       "      <th>populacao</th>\n",
       "      <th>casos_novos</th>\n",
       "      <th>casos_acumulados</th>\n",
       "      <th>incidencia_100mil</th>\n",
       "      <th>obitos_novos</th>\n",
       "      <th>obitos_acumulados</th>\n",
       "      <th>mortalidade_100mil</th>\n",
       "    </tr>\n",
       "  </thead>\n",
       "  <tbody>\n",
       "    <tr>\n",
       "      <th>0</th>\n",
       "      <td>AC</td>\n",
       "      <td>881935</td>\n",
       "      <td>0</td>\n",
       "      <td>174740</td>\n",
       "      <td>19813.251543</td>\n",
       "      <td>0</td>\n",
       "      <td>2115</td>\n",
       "      <td>239.813592</td>\n",
       "    </tr>\n",
       "    <tr>\n",
       "      <th>1</th>\n",
       "      <td>AL</td>\n",
       "      <td>3337357</td>\n",
       "      <td>161</td>\n",
       "      <td>350936</td>\n",
       "      <td>10515.386877</td>\n",
       "      <td>0</td>\n",
       "      <td>7375</td>\n",
       "      <td>220.983251</td>\n",
       "    </tr>\n",
       "    <tr>\n",
       "      <th>2</th>\n",
       "      <td>AM</td>\n",
       "      <td>4144597</td>\n",
       "      <td>7</td>\n",
       "      <td>648018</td>\n",
       "      <td>15635.247528</td>\n",
       "      <td>0</td>\n",
       "      <td>14556</td>\n",
       "      <td>351.204230</td>\n",
       "    </tr>\n",
       "    <tr>\n",
       "      <th>3</th>\n",
       "      <td>AP</td>\n",
       "      <td>845731</td>\n",
       "      <td>0</td>\n",
       "      <td>192019</td>\n",
       "      <td>22704.500604</td>\n",
       "      <td>0</td>\n",
       "      <td>2178</td>\n",
       "      <td>257.528694</td>\n",
       "    </tr>\n",
       "    <tr>\n",
       "      <th>4</th>\n",
       "      <td>BA</td>\n",
       "      <td>14873064</td>\n",
       "      <td>66</td>\n",
       "      <td>1853103</td>\n",
       "      <td>12459.456908</td>\n",
       "      <td>1</td>\n",
       "      <td>32126</td>\n",
       "      <td>216.001222</td>\n",
       "    </tr>\n",
       "  </tbody>\n",
       "</table>\n",
       "</div>"
      ],
      "text/plain": [
       "   uf  populacao  casos_novos  casos_acumulados  incidencia_100mil  \\\n",
       "0  AC     881935            0            174740       19813.251543   \n",
       "1  AL    3337357          161            350936       10515.386877   \n",
       "2  AM    4144597            7            648018       15635.247528   \n",
       "3  AP     845731            0            192019       22704.500604   \n",
       "4  BA   14873064           66           1853103       12459.456908   \n",
       "\n",
       "   obitos_novos  obitos_acumulados  mortalidade_100mil  \n",
       "0             0               2115          239.813592  \n",
       "1             0               7375          220.983251  \n",
       "2             0              14556          351.204230  \n",
       "3             0               2178          257.528694  \n",
       "4             1              32126          216.001222  "
      ]
     },
     "execution_count": 5,
     "metadata": {},
     "output_type": "execute_result"
    }
   ],
   "source": [
    "BrasilMortes.columns = [\n",
    "    'uf', 'populacao', 'casos_novos', 'casos_acumulados',\n",
    "    'incidencia_100mil', 'obitos_novos', 'obitos_acumulados',\n",
    "    'mortalidade_100mil'\n",
    "]\n",
    "BrasilMortes.head()"
   ]
  },
  {
   "cell_type": "markdown",
   "id": "6bbbad27",
   "metadata": {},
   "source": [
    "## Padronização de Tipos e Valores\n",
    "- Garantimos que a coluna `uf` esteja em letras maiúsculas.\n",
    "- Verificamos se colunas numéricas estão corretamente tipadas."
   ]
  },
  {
   "cell_type": "code",
   "execution_count": 6,
   "id": "5a79c9a7",
   "metadata": {},
   "outputs": [
    {
     "data": {
      "text/plain": [
       "uf                     object\n",
       "populacao               int64\n",
       "casos_novos             int64\n",
       "casos_acumulados        int64\n",
       "incidencia_100mil     float64\n",
       "obitos_novos            int64\n",
       "obitos_acumulados       int64\n",
       "mortalidade_100mil    float64\n",
       "dtype: object"
      ]
     },
     "execution_count": 6,
     "metadata": {},
     "output_type": "execute_result"
    }
   ],
   "source": [
    "BrasilMortes['uf'] = BrasilMortes['uf'].str.upper().str.strip()\n",
    "BrasilMortes = BrasilMortes.astype({\n",
    "    'populacao': int,\n",
    "    'casos_novos': int,\n",
    "    'casos_acumulados': int,\n",
    "    'obitos_novos': int,\n",
    "    'obitos_acumulados': int\n",
    "})\n",
    "BrasilMortes.dtypes"
   ]
  },
  {
   "cell_type": "markdown",
   "id": "ff0fd6af",
   "metadata": {},
   "source": [
    "## Salvando os Dados Limpos\n",
    "Vamos salvar os dados limpos em formato CSV na pasta `processed/` para uso futuro."
   ]
  },
  {
   "cell_type": "code",
   "execution_count": 7,
   "id": "74c8c39a",
   "metadata": {},
   "outputs": [
    {
     "name": "stdout",
     "output_type": "stream",
     "text": [
      "Dados salvos em: ../data/processed/mortes_covid_limpo.csv\n"
     ]
    }
   ],
   "source": [
    "output_path = '../data/processed/mortes_covid_limpo.csv'\n",
    "BrasilMortes.to_csv(output_path, index=False)\n",
    "print(f'Dados salvos em: {output_path}')"
   ]
  }
 ],
 "metadata": {
  "kernelspec": {
   "display_name": "venv",
   "language": "python",
   "name": "python3"
  },
  "language_info": {
   "codemirror_mode": {
    "name": "ipython",
    "version": 3
   },
   "file_extension": ".py",
   "mimetype": "text/x-python",
   "name": "python",
   "nbconvert_exporter": "python",
   "pygments_lexer": "ipython3",
   "version": "3.10.11"
  }
 },
 "nbformat": 4,
 "nbformat_minor": 5
}
