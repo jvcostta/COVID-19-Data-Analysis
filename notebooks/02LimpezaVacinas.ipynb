{
 "cells": [
  {
   "cell_type": "markdown",
   "id": "c0a06aac",
   "metadata": {},
   "source": [
    "# Notebook 02 - Limpeza da Base de Doses por COVID\n",
    "Este notebook realiza o carregamento, inspeção e limpeza da base de dados contendo informações sobre as doses das vacinas por COVID-19 no Brasil por estado (UF).\n",
    "\n",
    "A ideia é deixar os dados prontos para a fusão com a base de vacinação no próximo passo."
   ]
  },
  {
   "cell_type": "code",
   "execution_count": 2,
   "id": "9a5476ad",
   "metadata": {},
   "outputs": [],
   "source": [
    "import pandas as pd\n",
    "import numpy as np"
   ]
  },
  {
   "cell_type": "code",
   "execution_count": 3,
   "id": "baf48b31",
   "metadata": {},
   "outputs": [
    {
     "data": {
      "text/html": [
       "<div>\n",
       "<style scoped>\n",
       "    .dataframe tbody tr th:only-of-type {\n",
       "        vertical-align: middle;\n",
       "    }\n",
       "\n",
       "    .dataframe tbody tr th {\n",
       "        vertical-align: top;\n",
       "    }\n",
       "\n",
       "    .dataframe thead th {\n",
       "        text-align: right;\n",
       "    }\n",
       "</style>\n",
       "<table border=\"1\" class=\"dataframe\">\n",
       "  <thead>\n",
       "    <tr style=\"text-align: right;\">\n",
       "      <th></th>\n",
       "      <th>UF</th>\n",
       "      <th>Total de Doses Aplicadas</th>\n",
       "      <th>1ª Dose</th>\n",
       "      <th>2ª Dose</th>\n",
       "      <th>3ª Dose</th>\n",
       "      <th>Dose Reforço</th>\n",
       "      <th>1° Dose Reforço</th>\n",
       "      <th>2° Dose Reforço</th>\n",
       "      <th>3° Dose Reforço</th>\n",
       "      <th>Dose Adicional</th>\n",
       "      <th>Dose Única</th>\n",
       "    </tr>\n",
       "  </thead>\n",
       "  <tbody>\n",
       "    <tr>\n",
       "      <th>0</th>\n",
       "      <td>AC</td>\n",
       "      <td>1761508</td>\n",
       "      <td>714326</td>\n",
       "      <td>597758</td>\n",
       "      <td>6115</td>\n",
       "      <td>297942</td>\n",
       "      <td>6082</td>\n",
       "      <td>94092</td>\n",
       "      <td>1271</td>\n",
       "      <td>22653</td>\n",
       "      <td>19629</td>\n",
       "    </tr>\n",
       "    <tr>\n",
       "      <th>1</th>\n",
       "      <td>AL</td>\n",
       "      <td>6885011</td>\n",
       "      <td>2691088</td>\n",
       "      <td>2341666</td>\n",
       "      <td>13749</td>\n",
       "      <td>1276855</td>\n",
       "      <td>26073</td>\n",
       "      <td>446753</td>\n",
       "      <td>2883</td>\n",
       "      <td>11642</td>\n",
       "      <td>71242</td>\n",
       "    </tr>\n",
       "    <tr>\n",
       "      <th>2</th>\n",
       "      <td>AM</td>\n",
       "      <td>9064809</td>\n",
       "      <td>3584346</td>\n",
       "      <td>3051038</td>\n",
       "      <td>996581</td>\n",
       "      <td>834689</td>\n",
       "      <td>141562</td>\n",
       "      <td>302764</td>\n",
       "      <td>2572</td>\n",
       "      <td>22140</td>\n",
       "      <td>118060</td>\n",
       "    </tr>\n",
       "    <tr>\n",
       "      <th>3</th>\n",
       "      <td>AP</td>\n",
       "      <td>1646871</td>\n",
       "      <td>669886</td>\n",
       "      <td>549627</td>\n",
       "      <td>16055</td>\n",
       "      <td>263735</td>\n",
       "      <td>19904</td>\n",
       "      <td>79300</td>\n",
       "      <td>869</td>\n",
       "      <td>26309</td>\n",
       "      <td>19530</td>\n",
       "    </tr>\n",
       "    <tr>\n",
       "      <th>4</th>\n",
       "      <td>BA</td>\n",
       "      <td>36229601</td>\n",
       "      <td>12867305</td>\n",
       "      <td>11398066</td>\n",
       "      <td>226267</td>\n",
       "      <td>7357841</td>\n",
       "      <td>71874</td>\n",
       "      <td>3430083</td>\n",
       "      <td>58212</td>\n",
       "      <td>460767</td>\n",
       "      <td>345784</td>\n",
       "    </tr>\n",
       "  </tbody>\n",
       "</table>\n",
       "</div>"
      ],
      "text/plain": [
       "   UF  Total de Doses Aplicadas   1ª Dose   2ª Dose  3ª Dose  Dose Reforço  \\\n",
       "0  AC                   1761508    714326    597758     6115        297942   \n",
       "1  AL                   6885011   2691088   2341666    13749       1276855   \n",
       "2  AM                   9064809   3584346   3051038   996581        834689   \n",
       "3  AP                   1646871    669886    549627    16055        263735   \n",
       "4  BA                  36229601  12867305  11398066   226267       7357841   \n",
       "\n",
       "   1° Dose Reforço  2° Dose Reforço  3° Dose Reforço  Dose Adicional  \\\n",
       "0             6082            94092             1271           22653   \n",
       "1            26073           446753             2883           11642   \n",
       "2           141562           302764             2572           22140   \n",
       "3            19904            79300              869           26309   \n",
       "4            71874          3430083            58212          460767   \n",
       "\n",
       "   Dose Única  \n",
       "0       19629  \n",
       "1       71242  \n",
       "2      118060  \n",
       "3       19530  \n",
       "4      345784  "
      ]
     },
     "execution_count": 3,
     "metadata": {},
     "output_type": "execute_result"
    }
   ],
   "source": [
    "path = '../data/raw/dosesCovid19Brasil.xlsx'\n",
    "BrasilDoses = pd.read_excel(path)\n",
    "BrasilDoses.head()"
   ]
  },
  {
   "cell_type": "markdown",
   "id": "96cb20b9",
   "metadata": {},
   "source": [
    "## Verificação das Colunas\n",
    "Avaliaremos os nomes das colunas para identificar quais precisam ser renomeadas ou tratadas."
   ]
  },
  {
   "cell_type": "code",
   "execution_count": 4,
   "id": "bbcce11f",
   "metadata": {},
   "outputs": [
    {
     "data": {
      "text/plain": [
       "Index(['UF', 'Total de Doses Aplicadas', '1ª Dose', '2ª Dose', '3ª Dose',\n",
       "       'Dose Reforço', '1° Dose Reforço', '2° Dose Reforço', '3° Dose Reforço',\n",
       "       'Dose Adicional', 'Dose Única'],\n",
       "      dtype='object')"
      ]
     },
     "execution_count": 4,
     "metadata": {},
     "output_type": "execute_result"
    }
   ],
   "source": [
    "BrasilDoses.columns"
   ]
  },
  {
   "cell_type": "markdown",
   "id": "c08c5dde",
   "metadata": {},
   "source": [
    "## Renomeando as Colunas\n",
    "Vamos padronizar os nomes das colunas para o formato `snake_case`, que é o padrão recomendado para nomes de variáveis e colunas em Python."
   ]
  },
  {
   "cell_type": "code",
   "execution_count": 8,
   "id": "3885db20",
   "metadata": {},
   "outputs": [
    {
     "data": {
      "text/html": [
       "<div>\n",
       "<style scoped>\n",
       "    .dataframe tbody tr th:only-of-type {\n",
       "        vertical-align: middle;\n",
       "    }\n",
       "\n",
       "    .dataframe tbody tr th {\n",
       "        vertical-align: top;\n",
       "    }\n",
       "\n",
       "    .dataframe thead th {\n",
       "        text-align: right;\n",
       "    }\n",
       "</style>\n",
       "<table border=\"1\" class=\"dataframe\">\n",
       "  <thead>\n",
       "    <tr style=\"text-align: right;\">\n",
       "      <th></th>\n",
       "      <th>uf</th>\n",
       "      <th>total_doses_aplicadas</th>\n",
       "      <th>1_dose</th>\n",
       "      <th>2_dose</th>\n",
       "      <th>3_dose</th>\n",
       "      <th>dose_reforco</th>\n",
       "      <th>1_dose_reforco</th>\n",
       "      <th>2_dose_reforço</th>\n",
       "      <th>3_dose_reforco</th>\n",
       "      <th>dose_adicional</th>\n",
       "      <th>dose_unica</th>\n",
       "    </tr>\n",
       "  </thead>\n",
       "  <tbody>\n",
       "    <tr>\n",
       "      <th>0</th>\n",
       "      <td>AC</td>\n",
       "      <td>1761508</td>\n",
       "      <td>714326</td>\n",
       "      <td>597758</td>\n",
       "      <td>6115</td>\n",
       "      <td>297942</td>\n",
       "      <td>6082</td>\n",
       "      <td>94092</td>\n",
       "      <td>1271</td>\n",
       "      <td>22653</td>\n",
       "      <td>19629</td>\n",
       "    </tr>\n",
       "    <tr>\n",
       "      <th>1</th>\n",
       "      <td>AL</td>\n",
       "      <td>6885011</td>\n",
       "      <td>2691088</td>\n",
       "      <td>2341666</td>\n",
       "      <td>13749</td>\n",
       "      <td>1276855</td>\n",
       "      <td>26073</td>\n",
       "      <td>446753</td>\n",
       "      <td>2883</td>\n",
       "      <td>11642</td>\n",
       "      <td>71242</td>\n",
       "    </tr>\n",
       "    <tr>\n",
       "      <th>2</th>\n",
       "      <td>AM</td>\n",
       "      <td>9064809</td>\n",
       "      <td>3584346</td>\n",
       "      <td>3051038</td>\n",
       "      <td>996581</td>\n",
       "      <td>834689</td>\n",
       "      <td>141562</td>\n",
       "      <td>302764</td>\n",
       "      <td>2572</td>\n",
       "      <td>22140</td>\n",
       "      <td>118060</td>\n",
       "    </tr>\n",
       "    <tr>\n",
       "      <th>3</th>\n",
       "      <td>AP</td>\n",
       "      <td>1646871</td>\n",
       "      <td>669886</td>\n",
       "      <td>549627</td>\n",
       "      <td>16055</td>\n",
       "      <td>263735</td>\n",
       "      <td>19904</td>\n",
       "      <td>79300</td>\n",
       "      <td>869</td>\n",
       "      <td>26309</td>\n",
       "      <td>19530</td>\n",
       "    </tr>\n",
       "    <tr>\n",
       "      <th>4</th>\n",
       "      <td>BA</td>\n",
       "      <td>36229601</td>\n",
       "      <td>12867305</td>\n",
       "      <td>11398066</td>\n",
       "      <td>226267</td>\n",
       "      <td>7357841</td>\n",
       "      <td>71874</td>\n",
       "      <td>3430083</td>\n",
       "      <td>58212</td>\n",
       "      <td>460767</td>\n",
       "      <td>345784</td>\n",
       "    </tr>\n",
       "  </tbody>\n",
       "</table>\n",
       "</div>"
      ],
      "text/plain": [
       "   uf  total_doses_aplicadas    1_dose    2_dose  3_dose  dose_reforco  \\\n",
       "0  AC                1761508    714326    597758    6115        297942   \n",
       "1  AL                6885011   2691088   2341666   13749       1276855   \n",
       "2  AM                9064809   3584346   3051038  996581        834689   \n",
       "3  AP                1646871    669886    549627   16055        263735   \n",
       "4  BA               36229601  12867305  11398066  226267       7357841   \n",
       "\n",
       "   1_dose_reforco  2_dose_reforço  3_dose_reforco  dose_adicional  dose_unica  \n",
       "0            6082           94092            1271           22653       19629  \n",
       "1           26073          446753            2883           11642       71242  \n",
       "2          141562          302764            2572           22140      118060  \n",
       "3           19904           79300             869           26309       19530  \n",
       "4           71874         3430083           58212          460767      345784  "
      ]
     },
     "execution_count": 8,
     "metadata": {},
     "output_type": "execute_result"
    }
   ],
   "source": [
    "BrasilDoses.columns = [\n",
    "    'uf', 'total_doses_aplicadas', '1_dose', '2_dose',\n",
    "    '3_dose', 'dose_reforco', '1_dose_reforco', '2_dose_reforço', '3_dose_reforco',\n",
    "       'dose_adicional', 'dose_unica'\n",
    "]\n",
    "BrasilDoses.head()"
   ]
  },
  {
   "cell_type": "markdown",
   "id": "13aa4bda",
   "metadata": {},
   "source": [
    "## Padronização de Tipos e Valores\n",
    "- Garantimos que a coluna `uf` esteja em letras maiúsculas.\n",
    "- Verificamos se colunas numéricas estão corretamente tipadas."
   ]
  },
  {
   "cell_type": "code",
   "execution_count": 10,
   "id": "1b9bbab4",
   "metadata": {},
   "outputs": [
    {
     "data": {
      "text/plain": [
       "uf                       object\n",
       "total_doses_aplicadas     int64\n",
       "1_dose                    int64\n",
       "2_dose                    int64\n",
       "3_dose                    int64\n",
       "dose_reforco              int64\n",
       "1_dose_reforco            int64\n",
       "2_dose_reforço            int64\n",
       "3_dose_reforco            int64\n",
       "dose_adicional            int64\n",
       "dose_unica                int64\n",
       "dtype: object"
      ]
     },
     "execution_count": 10,
     "metadata": {},
     "output_type": "execute_result"
    }
   ],
   "source": [
    "BrasilDoses['uf'] = BrasilDoses['uf'].str.upper().str.strip()\n",
    "BrasilDoses = BrasilDoses.astype({\n",
    "    'total_doses_aplicadas': int,\n",
    "    '1_dose': int,\n",
    "    '2_dose': int,\n",
    "    '3_dose': int,\n",
    "    'dose_reforco': int,\n",
    "    '1_dose_reforco': int,\n",
    "    '2_dose_reforço': int,\n",
    "    '3_dose_reforco': int,\n",
    "    'dose_adicional': int,\n",
    "    'dose_unica': int,\n",
    "})\n",
    "BrasilDoses.dtypes"
   ]
  },
  {
   "cell_type": "markdown",
   "id": "f8a784ef",
   "metadata": {},
   "source": [
    "## Salvando os Dados Limpos\n",
    "Vamos salvar os dados limpos em formato CSV na pasta `processed/` para uso futuro."
   ]
  },
  {
   "cell_type": "code",
   "execution_count": 11,
   "id": "4fee3506",
   "metadata": {},
   "outputs": [
    {
     "name": "stdout",
     "output_type": "stream",
     "text": [
      "Dados salvos em: ../data/processed/doses_covid_limpo.csv\n"
     ]
    }
   ],
   "source": [
    "output_path = '../data/processed/doses_covid_limpo.csv'\n",
    "BrasilDoses.to_csv(output_path, index=False)\n",
    "print(f'Dados salvos em: {output_path}')"
   ]
  }
 ],
 "metadata": {
  "kernelspec": {
   "display_name": "venv",
   "language": "python",
   "name": "python3"
  },
  "language_info": {
   "codemirror_mode": {
    "name": "ipython",
    "version": 3
   },
   "file_extension": ".py",
   "mimetype": "text/x-python",
   "name": "python",
   "nbconvert_exporter": "python",
   "pygments_lexer": "ipython3",
   "version": "3.10.11"
  }
 },
 "nbformat": 4,
 "nbformat_minor": 5
}
