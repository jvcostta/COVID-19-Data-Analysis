{
 "cells": [
  {
   "cell_type": "markdown",
   "id": "47dbc35d",
   "metadata": {},
   "source": [
    "# Notebook 03 - Merge e Análise Exploratória\n",
    "Este notebook realiza:\n",
    " - Merge das bases de vacinação e mortes\n",
    " - Cálculo de métricas comparativas\n",
    " - Análises iniciais de correlação"
   ]
  },
  {
   "cell_type": "code",
   "execution_count": 1,
   "id": "aec05c46",
   "metadata": {},
   "outputs": [],
   "source": [
    "import pandas as pd\n",
    "import numpy as np\n",
    "import matplotlib.pyplot as plt\n",
    "import seaborn as sns"
   ]
  },
  {
   "cell_type": "markdown",
   "id": "c00df930",
   "metadata": {},
   "source": [
    "## Carregar dados processados"
   ]
  },
  {
   "cell_type": "code",
   "execution_count": 2,
   "id": "c33857ff",
   "metadata": {},
   "outputs": [],
   "source": [
    "mortes = pd.read_csv('../data/processed/mortes_covid_limpo.csv')\n",
    "vacinas = pd.read_csv('../data/processed/doses_covid_limpo.csv')"
   ]
  },
  {
   "cell_type": "markdown",
   "id": "09621101",
   "metadata": {},
   "source": [
    "## Merge das bases"
   ]
  },
  {
   "cell_type": "code",
   "execution_count": 3,
   "id": "f17c5d5a",
   "metadata": {},
   "outputs": [
    {
     "name": "stdout",
     "output_type": "stream",
     "text": [
      "Dimensões após merge: (27, 18)\n"
     ]
    },
    {
     "data": {
      "text/html": [
       "<div>\n",
       "<style scoped>\n",
       "    .dataframe tbody tr th:only-of-type {\n",
       "        vertical-align: middle;\n",
       "    }\n",
       "\n",
       "    .dataframe tbody tr th {\n",
       "        vertical-align: top;\n",
       "    }\n",
       "\n",
       "    .dataframe thead th {\n",
       "        text-align: right;\n",
       "    }\n",
       "</style>\n",
       "<table border=\"1\" class=\"dataframe\">\n",
       "  <thead>\n",
       "    <tr style=\"text-align: right;\">\n",
       "      <th></th>\n",
       "      <th>uf</th>\n",
       "      <th>populacao</th>\n",
       "      <th>casos_novos</th>\n",
       "      <th>casos_acumulados</th>\n",
       "      <th>incidencia_100mil</th>\n",
       "      <th>obitos_novos</th>\n",
       "      <th>obitos_acumulados</th>\n",
       "      <th>mortalidade_100mil</th>\n",
       "      <th>total_doses_aplicadas</th>\n",
       "      <th>1_dose</th>\n",
       "      <th>2_dose</th>\n",
       "      <th>3_dose</th>\n",
       "      <th>dose_reforco</th>\n",
       "      <th>1_dose_reforco</th>\n",
       "      <th>2_dose_reforço</th>\n",
       "      <th>3_dose_reforco</th>\n",
       "      <th>dose_adicional</th>\n",
       "      <th>dose_unica</th>\n",
       "    </tr>\n",
       "  </thead>\n",
       "  <tbody>\n",
       "    <tr>\n",
       "      <th>0</th>\n",
       "      <td>AC</td>\n",
       "      <td>881935</td>\n",
       "      <td>0</td>\n",
       "      <td>174740</td>\n",
       "      <td>19813.251543</td>\n",
       "      <td>0</td>\n",
       "      <td>2115</td>\n",
       "      <td>239.813592</td>\n",
       "      <td>1761508</td>\n",
       "      <td>714326</td>\n",
       "      <td>597758</td>\n",
       "      <td>6115</td>\n",
       "      <td>297942</td>\n",
       "      <td>6082</td>\n",
       "      <td>94092</td>\n",
       "      <td>1271</td>\n",
       "      <td>22653</td>\n",
       "      <td>19629</td>\n",
       "    </tr>\n",
       "    <tr>\n",
       "      <th>1</th>\n",
       "      <td>AL</td>\n",
       "      <td>3337357</td>\n",
       "      <td>161</td>\n",
       "      <td>350936</td>\n",
       "      <td>10515.386877</td>\n",
       "      <td>0</td>\n",
       "      <td>7375</td>\n",
       "      <td>220.983251</td>\n",
       "      <td>6885011</td>\n",
       "      <td>2691088</td>\n",
       "      <td>2341666</td>\n",
       "      <td>13749</td>\n",
       "      <td>1276855</td>\n",
       "      <td>26073</td>\n",
       "      <td>446753</td>\n",
       "      <td>2883</td>\n",
       "      <td>11642</td>\n",
       "      <td>71242</td>\n",
       "    </tr>\n",
       "    <tr>\n",
       "      <th>2</th>\n",
       "      <td>AM</td>\n",
       "      <td>4144597</td>\n",
       "      <td>7</td>\n",
       "      <td>648018</td>\n",
       "      <td>15635.247528</td>\n",
       "      <td>0</td>\n",
       "      <td>14556</td>\n",
       "      <td>351.204230</td>\n",
       "      <td>9064809</td>\n",
       "      <td>3584346</td>\n",
       "      <td>3051038</td>\n",
       "      <td>996581</td>\n",
       "      <td>834689</td>\n",
       "      <td>141562</td>\n",
       "      <td>302764</td>\n",
       "      <td>2572</td>\n",
       "      <td>22140</td>\n",
       "      <td>118060</td>\n",
       "    </tr>\n",
       "    <tr>\n",
       "      <th>3</th>\n",
       "      <td>AP</td>\n",
       "      <td>845731</td>\n",
       "      <td>0</td>\n",
       "      <td>192019</td>\n",
       "      <td>22704.500604</td>\n",
       "      <td>0</td>\n",
       "      <td>2178</td>\n",
       "      <td>257.528694</td>\n",
       "      <td>1646871</td>\n",
       "      <td>669886</td>\n",
       "      <td>549627</td>\n",
       "      <td>16055</td>\n",
       "      <td>263735</td>\n",
       "      <td>19904</td>\n",
       "      <td>79300</td>\n",
       "      <td>869</td>\n",
       "      <td>26309</td>\n",
       "      <td>19530</td>\n",
       "    </tr>\n",
       "    <tr>\n",
       "      <th>4</th>\n",
       "      <td>BA</td>\n",
       "      <td>14873064</td>\n",
       "      <td>66</td>\n",
       "      <td>1853103</td>\n",
       "      <td>12459.456908</td>\n",
       "      <td>1</td>\n",
       "      <td>32126</td>\n",
       "      <td>216.001222</td>\n",
       "      <td>36229601</td>\n",
       "      <td>12867305</td>\n",
       "      <td>11398066</td>\n",
       "      <td>226267</td>\n",
       "      <td>7357841</td>\n",
       "      <td>71874</td>\n",
       "      <td>3430083</td>\n",
       "      <td>58212</td>\n",
       "      <td>460767</td>\n",
       "      <td>345784</td>\n",
       "    </tr>\n",
       "  </tbody>\n",
       "</table>\n",
       "</div>"
      ],
      "text/plain": [
       "   uf  populacao  casos_novos  casos_acumulados  incidencia_100mil  \\\n",
       "0  AC     881935            0            174740       19813.251543   \n",
       "1  AL    3337357          161            350936       10515.386877   \n",
       "2  AM    4144597            7            648018       15635.247528   \n",
       "3  AP     845731            0            192019       22704.500604   \n",
       "4  BA   14873064           66           1853103       12459.456908   \n",
       "\n",
       "   obitos_novos  obitos_acumulados  mortalidade_100mil  total_doses_aplicadas  \\\n",
       "0             0               2115          239.813592                1761508   \n",
       "1             0               7375          220.983251                6885011   \n",
       "2             0              14556          351.204230                9064809   \n",
       "3             0               2178          257.528694                1646871   \n",
       "4             1              32126          216.001222               36229601   \n",
       "\n",
       "     1_dose    2_dose  3_dose  dose_reforco  1_dose_reforco  2_dose_reforço  \\\n",
       "0    714326    597758    6115        297942            6082           94092   \n",
       "1   2691088   2341666   13749       1276855           26073          446753   \n",
       "2   3584346   3051038  996581        834689          141562          302764   \n",
       "3    669886    549627   16055        263735           19904           79300   \n",
       "4  12867305  11398066  226267       7357841           71874         3430083   \n",
       "\n",
       "   3_dose_reforco  dose_adicional  dose_unica  \n",
       "0            1271           22653       19629  \n",
       "1            2883           11642       71242  \n",
       "2            2572           22140      118060  \n",
       "3             869           26309       19530  \n",
       "4           58212          460767      345784  "
      ]
     },
     "execution_count": 3,
     "metadata": {},
     "output_type": "execute_result"
    }
   ],
   "source": [
    "dados_completos = pd.merge(mortes, vacinas, on='uf', how='inner')\n",
    "print(\"Dimensões após merge:\", dados_completos.shape)\n",
    "dados_completos.head()"
   ]
  },
  {
   "cell_type": "markdown",
   "id": "e7ef0028",
   "metadata": {},
   "source": [
    "## Cálculo de métricas chave"
   ]
  },
  {
   "cell_type": "code",
   "execution_count": null,
   "id": "70eb9716",
   "metadata": {},
   "outputs": [],
   "source": [
    "# Taxa de vacinação por população\n",
    "dados_completos['vac_per_capita'] = dados_completos['total_doses_aplicadas'] / dados_completos['populacao']\n",
    "\n",
    "# Taxa de mortalidade ajustada\n",
    "dados_completos['mortalidade_ajustada'] = dados_completos['obitos_acumulados'] / dados_completos['populacao'] * 100000\n",
    "\n",
    "# Proporção de população totalmente vacinada (2 doses + dose única)\n",
    "dados_completos['pop_2_doses'] = (dados_completos['2_dose'] + dados_completos['dose_unica']) / dados_completos['populacao']\n"
   ]
  },
  {
   "cell_type": "markdown",
   "id": "e73e9916",
   "metadata": {},
   "source": [
    " ## Análise de correlação"
   ]
  },
  {
   "cell_type": "code",
   "execution_count": null,
   "id": "5633b38a",
   "metadata": {},
   "outputs": [],
   "source": [
    "# Matriz de correlação\n",
    "correlacoes = dados_completos[[\n",
    "    'vac_per_capita',\n",
    "    'pop_2_doses',\n",
    "    'mortalidade_ajustada',\n",
    "    'incidencia_100mil'\n",
    "]].corr()\n",
    "\n",
    "sns.heatmap(correlacoes, annot=True, cmap='coolwarm')\n",
    "plt.title('Matriz de Correlação entre Variáveis-Chave')\n",
    "plt.show()\n"
   ]
  },
  {
   "cell_type": "markdown",
   "id": "4052976e",
   "metadata": {},
   "source": [
    "## Análise visual básica"
   ]
  },
  {
   "cell_type": "code",
   "execution_count": null,
   "id": "8d2075c7",
   "metadata": {},
   "outputs": [],
   "source": [
    "plt.figure(figsize=(12,6))\n",
    "sns.scatterplot(\n",
    "    x='pop_2_doses',\n",
    "    y='mortalidade_ajustada',\n",
    "    size='populacao',\n",
    "    hue='uf',\n",
    "    data=dados_completos,\n",
    "    palette='viridis',\n",
    "    sizes=(20, 200)\n",
    "plt.title('Relação entre População Totalmente Vacinada e Mortalidade por UF')\n",
    "plt.xlabel('Proporção da População com 2 Doses ou Dose Única')\n",
    "plt.ylabel('Mortalidade por 100 mil habitantes')\n",
    "plt.legend(bbox_to_anchor=(1.05, 1), loc='upper left')\n",
    "plt.show())"
   ]
  },
  {
   "cell_type": "markdown",
   "id": "9b821245",
   "metadata": {},
   "source": [
    "## Principais descobertas iniciais\n",
    "1. **Correlação Negativa**: Estados com maior proporção de população totalmente vacinada (2 doses) tendem a apresentar menores taxas de mortalidade\n",
    "2. **Efeito Dose Única**: Estados com alta adesão à dose única também mostram redução significativa na mortalidade\n",
    "3. **Disparidades Regionais**: Alguns estados do Norte/Nordeste apresentam simultaneamente baixa cobertura vacinal e alta mortalidade\n",
    "4. **Efeito Reforço**: Estados com maior aplicação de doses de reforço mostraram menores taxas de incidência"
   ]
  }
 ],
 "metadata": {
  "kernelspec": {
   "display_name": "venv",
   "language": "python",
   "name": "python3"
  },
  "language_info": {
   "codemirror_mode": {
    "name": "ipython",
    "version": 3
   },
   "file_extension": ".py",
   "mimetype": "text/x-python",
   "name": "python",
   "nbconvert_exporter": "python",
   "pygments_lexer": "ipython3",
   "version": "3.10.11"
  }
 },
 "nbformat": 4,
 "nbformat_minor": 5
}
